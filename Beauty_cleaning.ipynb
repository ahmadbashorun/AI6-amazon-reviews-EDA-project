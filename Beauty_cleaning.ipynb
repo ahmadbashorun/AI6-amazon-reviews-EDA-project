{
 "cells": [
  {
   "cell_type": "markdown",
   "metadata": {},
   "source": [
    "### Beauty Ahmad"
   ]
  },
  {
   "cell_type": "code",
   "execution_count": 4,
   "metadata": {},
   "outputs": [],
   "source": [
    "beauty_df = pd.read_csv(\"beauty.csv\")\n"
   ]
  },
  {
   "cell_type": "code",
   "execution_count": 5,
   "metadata": {},
   "outputs": [
    {
     "data": {
      "text/html": [
       "<div>\n",
       "<style scoped>\n",
       "    .dataframe tbody tr th:only-of-type {\n",
       "        vertical-align: middle;\n",
       "    }\n",
       "\n",
       "    .dataframe tbody tr th {\n",
       "        vertical-align: top;\n",
       "    }\n",
       "\n",
       "    .dataframe thead th {\n",
       "        text-align: right;\n",
       "    }\n",
       "</style>\n",
       "<table border=\"1\" class=\"dataframe\">\n",
       "  <thead>\n",
       "    <tr style=\"text-align: right;\">\n",
       "      <th></th>\n",
       "      <th>Unnamed: 0</th>\n",
       "      <th>overall</th>\n",
       "      <th>verified</th>\n",
       "      <th>reviewTime</th>\n",
       "      <th>reviewerID</th>\n",
       "      <th>asin</th>\n",
       "      <th>reviewerName</th>\n",
       "      <th>reviewText</th>\n",
       "      <th>Size:</th>\n",
       "    </tr>\n",
       "  </thead>\n",
       "  <tbody>\n",
       "    <tr>\n",
       "      <th>0</th>\n",
       "      <td>0</td>\n",
       "      <td>5</td>\n",
       "      <td>True</td>\n",
       "      <td>2016-09-01</td>\n",
       "      <td>A3CIUOJXQ5VDQ2</td>\n",
       "      <td>B0000530HU</td>\n",
       "      <td>Shelly F</td>\n",
       "      <td>As advertised. Reasonably priced</td>\n",
       "      <td>7.0 oz</td>\n",
       "    </tr>\n",
       "    <tr>\n",
       "      <th>1</th>\n",
       "      <td>1</td>\n",
       "      <td>5</td>\n",
       "      <td>True</td>\n",
       "      <td>2013-11-14</td>\n",
       "      <td>A3H7T87S984REU</td>\n",
       "      <td>B0000530HU</td>\n",
       "      <td>houserules18</td>\n",
       "      <td>Like the oder and the feel when I put it on my...</td>\n",
       "      <td>7.0 oz</td>\n",
       "    </tr>\n",
       "    <tr>\n",
       "      <th>2</th>\n",
       "      <td>2</td>\n",
       "      <td>1</td>\n",
       "      <td>True</td>\n",
       "      <td>2013-08-18</td>\n",
       "      <td>A3J034YH7UG4KT</td>\n",
       "      <td>B0000530HU</td>\n",
       "      <td>Adam</td>\n",
       "      <td>I bought this to smell nice after I shave.  Wh...</td>\n",
       "      <td>7.0 oz</td>\n",
       "    </tr>\n",
       "    <tr>\n",
       "      <th>3</th>\n",
       "      <td>3</td>\n",
       "      <td>5</td>\n",
       "      <td>False</td>\n",
       "      <td>2011-05-03</td>\n",
       "      <td>A2UEO5XR3598GI</td>\n",
       "      <td>B0000530HU</td>\n",
       "      <td>Rich K</td>\n",
       "      <td>HEY!! I am an Aqua Velva Man and absolutely lo...</td>\n",
       "      <td>7.0 oz</td>\n",
       "    </tr>\n",
       "    <tr>\n",
       "      <th>4</th>\n",
       "      <td>4</td>\n",
       "      <td>5</td>\n",
       "      <td>True</td>\n",
       "      <td>2011-05-06</td>\n",
       "      <td>A3SFRT223XXWF7</td>\n",
       "      <td>B00006L9LC</td>\n",
       "      <td>C. C. Christian</td>\n",
       "      <td>If you ever want to feel pampered by a shampoo...</td>\n",
       "      <td>200ml/6.7oz</td>\n",
       "    </tr>\n",
       "  </tbody>\n",
       "</table>\n",
       "</div>"
      ],
      "text/plain": [
       "   Unnamed: 0  overall  verified  reviewTime      reviewerID        asin  \\\n",
       "0           0        5      True  2016-09-01  A3CIUOJXQ5VDQ2  B0000530HU   \n",
       "1           1        5      True  2013-11-14  A3H7T87S984REU  B0000530HU   \n",
       "2           2        1      True  2013-08-18  A3J034YH7UG4KT  B0000530HU   \n",
       "3           3        5     False  2011-05-03  A2UEO5XR3598GI  B0000530HU   \n",
       "4           4        5      True  2011-05-06  A3SFRT223XXWF7  B00006L9LC   \n",
       "\n",
       "      reviewerName                                         reviewText  \\\n",
       "0         Shelly F                   As advertised. Reasonably priced   \n",
       "1     houserules18  Like the oder and the feel when I put it on my...   \n",
       "2             Adam  I bought this to smell nice after I shave.  Wh...   \n",
       "3           Rich K  HEY!! I am an Aqua Velva Man and absolutely lo...   \n",
       "4  C. C. Christian  If you ever want to feel pampered by a shampoo...   \n",
       "\n",
       "          Size:  \n",
       "0        7.0 oz  \n",
       "1        7.0 oz  \n",
       "2        7.0 oz  \n",
       "3        7.0 oz  \n",
       "4   200ml/6.7oz  "
      ]
     },
     "execution_count": 5,
     "metadata": {},
     "output_type": "execute_result"
    }
   ],
   "source": [
    "beauty_df.head()"
   ]
  },
  {
   "cell_type": "code",
   "execution_count": 6,
   "metadata": {},
   "outputs": [],
   "source": [
    "del beauty_df[\"Unnamed: 0\"]"
   ]
  },
  {
   "cell_type": "code",
   "execution_count": 7,
   "metadata": {},
   "outputs": [],
   "source": [
    "beauty_df['reviewTime'] = pd.to_datetime(beauty_df['reviewTime'])\n",
    "#beauty_df.head()"
   ]
  },
  {
   "cell_type": "code",
   "execution_count": 8,
   "metadata": {},
   "outputs": [
    {
     "data": {
      "text/html": [
       "<div>\n",
       "<style scoped>\n",
       "    .dataframe tbody tr th:only-of-type {\n",
       "        vertical-align: middle;\n",
       "    }\n",
       "\n",
       "    .dataframe tbody tr th {\n",
       "        vertical-align: top;\n",
       "    }\n",
       "\n",
       "    .dataframe thead th {\n",
       "        text-align: right;\n",
       "    }\n",
       "</style>\n",
       "<table border=\"1\" class=\"dataframe\">\n",
       "  <thead>\n",
       "    <tr style=\"text-align: right;\">\n",
       "      <th></th>\n",
       "      <th>productRating</th>\n",
       "      <th>verified</th>\n",
       "      <th>reviewTime</th>\n",
       "      <th>reviewerID</th>\n",
       "      <th>productID</th>\n",
       "      <th>reviewerName</th>\n",
       "      <th>reviewText</th>\n",
       "      <th>size</th>\n",
       "    </tr>\n",
       "  </thead>\n",
       "  <tbody>\n",
       "    <tr>\n",
       "      <th>0</th>\n",
       "      <td>5</td>\n",
       "      <td>True</td>\n",
       "      <td>2016-09-01</td>\n",
       "      <td>A3CIUOJXQ5VDQ2</td>\n",
       "      <td>B0000530HU</td>\n",
       "      <td>Shelly F</td>\n",
       "      <td>As advertised. Reasonably priced</td>\n",
       "      <td>7.0 oz</td>\n",
       "    </tr>\n",
       "    <tr>\n",
       "      <th>1</th>\n",
       "      <td>5</td>\n",
       "      <td>True</td>\n",
       "      <td>2013-11-14</td>\n",
       "      <td>A3H7T87S984REU</td>\n",
       "      <td>B0000530HU</td>\n",
       "      <td>houserules18</td>\n",
       "      <td>Like the oder and the feel when I put it on my...</td>\n",
       "      <td>7.0 oz</td>\n",
       "    </tr>\n",
       "    <tr>\n",
       "      <th>2</th>\n",
       "      <td>1</td>\n",
       "      <td>True</td>\n",
       "      <td>2013-08-18</td>\n",
       "      <td>A3J034YH7UG4KT</td>\n",
       "      <td>B0000530HU</td>\n",
       "      <td>Adam</td>\n",
       "      <td>I bought this to smell nice after I shave.  Wh...</td>\n",
       "      <td>7.0 oz</td>\n",
       "    </tr>\n",
       "    <tr>\n",
       "      <th>3</th>\n",
       "      <td>5</td>\n",
       "      <td>False</td>\n",
       "      <td>2011-05-03</td>\n",
       "      <td>A2UEO5XR3598GI</td>\n",
       "      <td>B0000530HU</td>\n",
       "      <td>Rich K</td>\n",
       "      <td>HEY!! I am an Aqua Velva Man and absolutely lo...</td>\n",
       "      <td>7.0 oz</td>\n",
       "    </tr>\n",
       "    <tr>\n",
       "      <th>4</th>\n",
       "      <td>5</td>\n",
       "      <td>True</td>\n",
       "      <td>2011-05-06</td>\n",
       "      <td>A3SFRT223XXWF7</td>\n",
       "      <td>B00006L9LC</td>\n",
       "      <td>C. C. Christian</td>\n",
       "      <td>If you ever want to feel pampered by a shampoo...</td>\n",
       "      <td>200ml/6.7oz</td>\n",
       "    </tr>\n",
       "  </tbody>\n",
       "</table>\n",
       "</div>"
      ],
      "text/plain": [
       "   productRating  verified reviewTime      reviewerID   productID  \\\n",
       "0              5      True 2016-09-01  A3CIUOJXQ5VDQ2  B0000530HU   \n",
       "1              5      True 2013-11-14  A3H7T87S984REU  B0000530HU   \n",
       "2              1      True 2013-08-18  A3J034YH7UG4KT  B0000530HU   \n",
       "3              5     False 2011-05-03  A2UEO5XR3598GI  B0000530HU   \n",
       "4              5      True 2011-05-06  A3SFRT223XXWF7  B00006L9LC   \n",
       "\n",
       "      reviewerName                                         reviewText  \\\n",
       "0         Shelly F                   As advertised. Reasonably priced   \n",
       "1     houserules18  Like the oder and the feel when I put it on my...   \n",
       "2             Adam  I bought this to smell nice after I shave.  Wh...   \n",
       "3           Rich K  HEY!! I am an Aqua Velva Man and absolutely lo...   \n",
       "4  C. C. Christian  If you ever want to feel pampered by a shampoo...   \n",
       "\n",
       "           size  \n",
       "0        7.0 oz  \n",
       "1        7.0 oz  \n",
       "2        7.0 oz  \n",
       "3        7.0 oz  \n",
       "4   200ml/6.7oz  "
      ]
     },
     "execution_count": 8,
     "metadata": {},
     "output_type": "execute_result"
    }
   ],
   "source": [
    "beauty_df.rename(columns={\"overall\":\"productRating\",\"asin\":\"productID\", \"Size:\":\"size\"}, inplace=True)\n",
    "beauty_df.head()"
   ]
  },
  {
   "cell_type": "code",
   "execution_count": 9,
   "metadata": {},
   "outputs": [
    {
     "data": {
      "text/html": [
       "<div>\n",
       "<style scoped>\n",
       "    .dataframe tbody tr th:only-of-type {\n",
       "        vertical-align: middle;\n",
       "    }\n",
       "\n",
       "    .dataframe tbody tr th {\n",
       "        vertical-align: top;\n",
       "    }\n",
       "\n",
       "    .dataframe thead th {\n",
       "        text-align: right;\n",
       "    }\n",
       "</style>\n",
       "<table border=\"1\" class=\"dataframe\">\n",
       "  <thead>\n",
       "    <tr style=\"text-align: right;\">\n",
       "      <th></th>\n",
       "      <th>productRating</th>\n",
       "      <th>verified</th>\n",
       "      <th>reviewTime</th>\n",
       "      <th>reviewerID</th>\n",
       "      <th>reviewerName</th>\n",
       "      <th>reviewText</th>\n",
       "      <th>size</th>\n",
       "    </tr>\n",
       "    <tr>\n",
       "      <th>productID</th>\n",
       "      <th></th>\n",
       "      <th></th>\n",
       "      <th></th>\n",
       "      <th></th>\n",
       "      <th></th>\n",
       "      <th></th>\n",
       "      <th></th>\n",
       "    </tr>\n",
       "  </thead>\n",
       "  <tbody>\n",
       "    <tr>\n",
       "      <th>B0012Y0ZG2</th>\n",
       "      <td>1794</td>\n",
       "      <td>1794</td>\n",
       "      <td>1794</td>\n",
       "      <td>1794</td>\n",
       "      <td>1794</td>\n",
       "      <td>1792</td>\n",
       "      <td>1794</td>\n",
       "    </tr>\n",
       "    <tr>\n",
       "      <th>B000URXP6E</th>\n",
       "      <td>858</td>\n",
       "      <td>858</td>\n",
       "      <td>858</td>\n",
       "      <td>858</td>\n",
       "      <td>858</td>\n",
       "      <td>857</td>\n",
       "      <td>857</td>\n",
       "    </tr>\n",
       "    <tr>\n",
       "      <th>B001OHV1H4</th>\n",
       "      <td>489</td>\n",
       "      <td>489</td>\n",
       "      <td>489</td>\n",
       "      <td>489</td>\n",
       "      <td>489</td>\n",
       "      <td>488</td>\n",
       "      <td>489</td>\n",
       "    </tr>\n",
       "    <tr>\n",
       "      <th>B00006L9LC</th>\n",
       "      <td>489</td>\n",
       "      <td>489</td>\n",
       "      <td>489</td>\n",
       "      <td>489</td>\n",
       "      <td>489</td>\n",
       "      <td>488</td>\n",
       "      <td>489</td>\n",
       "    </tr>\n",
       "    <tr>\n",
       "      <th>B0009RF9DW</th>\n",
       "      <td>392</td>\n",
       "      <td>392</td>\n",
       "      <td>392</td>\n",
       "      <td>392</td>\n",
       "      <td>392</td>\n",
       "      <td>392</td>\n",
       "      <td>392</td>\n",
       "    </tr>\n",
       "    <tr>\n",
       "      <th>...</th>\n",
       "      <td>...</td>\n",
       "      <td>...</td>\n",
       "      <td>...</td>\n",
       "      <td>...</td>\n",
       "      <td>...</td>\n",
       "      <td>...</td>\n",
       "      <td>...</td>\n",
       "    </tr>\n",
       "    <tr>\n",
       "      <th>B00MGK9Z8U</th>\n",
       "      <td>1</td>\n",
       "      <td>1</td>\n",
       "      <td>1</td>\n",
       "      <td>1</td>\n",
       "      <td>1</td>\n",
       "      <td>1</td>\n",
       "      <td>0</td>\n",
       "    </tr>\n",
       "    <tr>\n",
       "      <th>B0091OCA86</th>\n",
       "      <td>1</td>\n",
       "      <td>1</td>\n",
       "      <td>1</td>\n",
       "      <td>1</td>\n",
       "      <td>1</td>\n",
       "      <td>1</td>\n",
       "      <td>0</td>\n",
       "    </tr>\n",
       "    <tr>\n",
       "      <th>B00B7V273E</th>\n",
       "      <td>1</td>\n",
       "      <td>1</td>\n",
       "      <td>1</td>\n",
       "      <td>1</td>\n",
       "      <td>1</td>\n",
       "      <td>1</td>\n",
       "      <td>1</td>\n",
       "    </tr>\n",
       "    <tr>\n",
       "      <th>B00GHJOM2U</th>\n",
       "      <td>1</td>\n",
       "      <td>1</td>\n",
       "      <td>1</td>\n",
       "      <td>1</td>\n",
       "      <td>1</td>\n",
       "      <td>1</td>\n",
       "      <td>0</td>\n",
       "    </tr>\n",
       "    <tr>\n",
       "      <th>B01DKQAXC0</th>\n",
       "      <td>1</td>\n",
       "      <td>1</td>\n",
       "      <td>1</td>\n",
       "      <td>1</td>\n",
       "      <td>1</td>\n",
       "      <td>1</td>\n",
       "      <td>0</td>\n",
       "    </tr>\n",
       "  </tbody>\n",
       "</table>\n",
       "<p>85 rows × 7 columns</p>\n",
       "</div>"
      ],
      "text/plain": [
       "            productRating  verified  reviewTime  reviewerID  reviewerName  \\\n",
       "productID                                                                   \n",
       "B0012Y0ZG2           1794      1794        1794        1794          1794   \n",
       "B000URXP6E            858       858         858         858           858   \n",
       "B001OHV1H4            489       489         489         489           489   \n",
       "B00006L9LC            489       489         489         489           489   \n",
       "B0009RF9DW            392       392         392         392           392   \n",
       "...                   ...       ...         ...         ...           ...   \n",
       "B00MGK9Z8U              1         1           1           1             1   \n",
       "B0091OCA86              1         1           1           1             1   \n",
       "B00B7V273E              1         1           1           1             1   \n",
       "B00GHJOM2U              1         1           1           1             1   \n",
       "B01DKQAXC0              1         1           1           1             1   \n",
       "\n",
       "            reviewText  size  \n",
       "productID                     \n",
       "B0012Y0ZG2        1792  1794  \n",
       "B000URXP6E         857   857  \n",
       "B001OHV1H4         488   489  \n",
       "B00006L9LC         488   489  \n",
       "B0009RF9DW         392   392  \n",
       "...                ...   ...  \n",
       "B00MGK9Z8U           1     0  \n",
       "B0091OCA86           1     0  \n",
       "B00B7V273E           1     1  \n",
       "B00GHJOM2U           1     0  \n",
       "B01DKQAXC0           1     0  \n",
       "\n",
       "[85 rows x 7 columns]"
      ]
     },
     "execution_count": 9,
     "metadata": {},
     "output_type": "execute_result"
    }
   ],
   "source": [
    "beauty_df.groupby('productID').count().sort_values('productRating', ascending = False)"
   ]
  },
  {
   "cell_type": "code",
   "execution_count": null,
   "metadata": {},
   "outputs": [],
   "source": []
  },
  {
   "cell_type": "markdown",
   "metadata": {},
   "source": [
    "#### The Data at a glance"
   ]
  },
  {
   "cell_type": "code",
   "execution_count": 10,
   "metadata": {},
   "outputs": [
    {
     "name": "stdout",
     "output_type": "stream",
     "text": [
      "<class 'pandas.core.frame.DataFrame'>\n",
      "RangeIndex: 5269 entries, 0 to 5268\n",
      "Data columns (total 8 columns):\n",
      " #   Column         Non-Null Count  Dtype         \n",
      "---  ------         --------------  -----         \n",
      " 0   productRating  5269 non-null   int64         \n",
      " 1   verified       5269 non-null   bool          \n",
      " 2   reviewTime     5269 non-null   datetime64[ns]\n",
      " 3   reviewerID     5269 non-null   object        \n",
      " 4   productID      5269 non-null   object        \n",
      " 5   reviewerName   5269 non-null   object        \n",
      " 6   reviewText     5264 non-null   object        \n",
      " 7   size           4358 non-null   object        \n",
      "dtypes: bool(1), datetime64[ns](1), int64(1), object(5)\n",
      "memory usage: 293.4+ KB\n"
     ]
    }
   ],
   "source": [
    "beauty_df.info()"
   ]
  },
  {
   "cell_type": "code",
   "execution_count": 11,
   "metadata": {},
   "outputs": [
    {
     "data": {
      "text/plain": [
       "productRating      0\n",
       "verified           0\n",
       "reviewTime         0\n",
       "reviewerID         0\n",
       "productID          0\n",
       "reviewerName       0\n",
       "reviewText         5\n",
       "size             911\n",
       "dtype: int64"
      ]
     },
     "execution_count": 11,
     "metadata": {},
     "output_type": "execute_result"
    }
   ],
   "source": [
    "beauty_df.isnull().sum()"
   ]
  },
  {
   "cell_type": "markdown",
   "metadata": {},
   "source": [
    " I renamed the columns to clearer terms, I also figured I have 911 null values in size"
   ]
  },
  {
   "cell_type": "markdown",
   "metadata": {},
   "source": [
    "#### Analysis with datetimes"
   ]
  },
  {
   "cell_type": "code",
   "execution_count": 13,
   "metadata": {},
   "outputs": [
    {
     "name": "stdout",
     "output_type": "stream",
     "text": [
      "Time span of the data: 5084 days 00:00:00\n"
     ]
    }
   ],
   "source": [
    "time_span = beauty_df[\"reviewTime\"].max() - beauty_df[\"reviewTime\"].min()\n",
    "\n",
    "print (\"Time span of the data: {}\".format(time_span))"
   ]
  },
  {
   "cell_type": "code",
   "execution_count": 14,
   "metadata": {},
   "outputs": [],
   "source": [
    "beauty_df[\"year\"] = beauty_df[\"reviewTime\"].dt.year\n",
    "beauty_df[\"month\"] = beauty_df[\"reviewTime\"].dt.month_name()\n",
    "beauty_df[\"dayOfTheWeek\"] = beauty_df[\"reviewTime\"].dt.day_name()"
   ]
  },
  {
   "cell_type": "code",
   "execution_count": 17,
   "metadata": {},
   "outputs": [
    {
     "name": "stdout",
     "output_type": "stream",
     "text": [
      "Amount of reviews per year: \n",
      "year\n",
      "2016    1232\n",
      "2015    1027\n",
      "2017     825\n",
      "2014     784\n",
      "2013     756\n",
      "2018     443\n",
      "2012     111\n",
      "2009      25\n",
      "2011      20\n",
      "2008      20\n",
      "2007      13\n",
      "2010       4\n",
      "2006       2\n",
      "2005       1\n",
      "2004       1\n",
      "Name: reviewText, dtype: int64\n"
     ]
    }
   ],
   "source": [
    "year_count = beauty_df.groupby(\"year\")[\"reviewText\"].count().sort_values(ascending=False)\n",
    "\n",
    "print(\"Amount of reviews per year: \\n{}\".format(year_count))"
   ]
  },
  {
   "cell_type": "code",
   "execution_count": 18,
   "metadata": {},
   "outputs": [
    {
     "name": "stdout",
     "output_type": "stream",
     "text": [
      "Amount of reviews per month: \n",
      "month\n",
      "August       598\n",
      "September    550\n",
      "April        548\n",
      "March        518\n",
      "July         464\n",
      "May          445\n",
      "February     413\n",
      "January      410\n",
      "December     352\n",
      "November     338\n",
      "October      320\n",
      "June         308\n",
      "Name: reviewText, dtype: int64\n"
     ]
    }
   ],
   "source": [
    "month_count = beauty_df.groupby(\"month\")[\"reviewText\"].count().sort_values(ascending=False)\n",
    "\n",
    "print(\"Amount of reviews per month: \\n{}\".format(month_count))"
   ]
  },
  {
   "cell_type": "code",
   "execution_count": 21,
   "metadata": {},
   "outputs": [
    {
     "name": "stdout",
     "output_type": "stream",
     "text": [
      "Monthly breakdown of amount of reviews for each year: \n",
      "year  month    \n",
      "2017  September    244\n",
      "2018  April        184\n",
      "2016  July         177\n",
      "      March        175\n",
      "2015  August       159\n",
      "                  ... \n",
      "2008  November       1\n",
      "2009  February       1\n",
      "      May            1\n",
      "2018  July           1\n",
      "2004  September      1\n",
      "Name: reviewText, Length: 101, dtype: int64\n"
     ]
    }
   ],
   "source": [
    "year_month_count = beauty_df.groupby([\"year\", \"month\"])[\"reviewText\"].count().sort_values(ascending=False)\n",
    "\n",
    "print (\"Monthly breakdown of amount of reviews for each year: \\n{}\".format(year_month_count))"
   ]
  },
  {
   "cell_type": "code",
   "execution_count": 24,
   "metadata": {},
   "outputs": [
    {
     "name": "stdout",
     "output_type": "stream",
     "text": [
      "Average rating per year: \n",
      "      count      mean\n",
      "year                 \n",
      "2016   1232  4.933442\n",
      "2015   1032  4.932171\n",
      "2017    825  4.713939\n",
      "2014    784  4.891582\n",
      "2013    756  4.880952\n",
      "2018    443  3.724605\n",
      "2012    111  4.927928\n",
      "2009     25  4.680000\n",
      "2008     20  3.200000\n",
      "2011     20  4.400000\n",
      "2007     13  4.230769\n",
      "2010      4  5.000000\n",
      "2006      2  5.000000\n",
      "2004      1  5.000000\n",
      "2005      1  5.000000\n"
     ]
    }
   ],
   "source": [
    "yearly_rating = beauty_df.groupby(\"year\")[\"productRating\"].agg([\"count\",\"mean\"]).sort_values(\n",
    "    by=\"count\", ascending=False)\n",
    "\n",
    "print(\"Average rating per year: \\n{}\".format(yearly_rating))"
   ]
  },
  {
   "cell_type": "code",
   "execution_count": 25,
   "metadata": {},
   "outputs": [
    {
     "name": "stdout",
     "output_type": "stream",
     "text": [
      "Monthly breakdown for average rating per year: \n",
      "                count      mean\n",
      "year month                     \n",
      "2017 September    244  4.368852\n",
      "2018 April        184  4.157609\n",
      "2016 July         177  4.830508\n",
      "     March        175  5.000000\n",
      "2015 August       159  4.974843\n",
      "...               ...       ...\n",
      "2009 March          1  1.000000\n",
      "     February       1  5.000000\n",
      "2008 November       1  2.000000\n",
      "     January        1  3.000000\n",
      "2004 September      1  5.000000\n",
      "\n",
      "[101 rows x 2 columns]\n"
     ]
    }
   ],
   "source": [
    "yearly_month_rating = beauty_df.groupby([\"year\", \"month\"])[\"productRating\"].agg([\"count\",\"mean\"]).sort_values(\n",
    "    by=\"count\", ascending=False)\n",
    "\n",
    "print(\"Monthly breakdown for average rating per year: \\n{}\".format(yearly_month_rating))"
   ]
  },
  {
   "cell_type": "code",
   "execution_count": null,
   "metadata": {},
   "outputs": [],
   "source": []
  },
  {
   "cell_type": "code",
   "execution_count": null,
   "metadata": {},
   "outputs": [],
   "source": []
  },
  {
   "cell_type": "code",
   "execution_count": null,
   "metadata": {},
   "outputs": [],
   "source": []
  },
  {
   "cell_type": "markdown",
   "metadata": {},
   "source": [
    "I created new columns for month, year and day of the week. I also grouped based on amount of reviews as well as average rating"
   ]
  },
  {
   "cell_type": "code",
   "execution_count": null,
   "metadata": {},
   "outputs": [],
   "source": []
  }
 ],
 "metadata": {
  "kernelspec": {
   "display_name": "Python 3",
   "language": "python",
   "name": "python3"
  },
  "language_info": {
   "codemirror_mode": {
    "name": "ipython",
    "version": 3
   },
   "file_extension": ".py",
   "mimetype": "text/x-python",
   "name": "python",
   "nbconvert_exporter": "python",
   "pygments_lexer": "ipython3",
   "version": "3.8.5"
  }
 },
 "nbformat": 4,
 "nbformat_minor": 4
}
