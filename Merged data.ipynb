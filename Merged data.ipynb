{
 "cells": [
  {
   "cell_type": "code",
   "execution_count": 1,
   "metadata": {},
   "outputs": [],
   "source": [
    "import pandas as pd\n",
    "import numpy as np\n",
    "import matplotlib.pyplot as plt\n",
    "import seaborn as sns\n",
    "%matplotlib inline\n",
    "\n",
    "# For sentiment analyses?\n",
    "from textblob import TextBlob"
   ]
  },
  {
   "cell_type": "code",
   "execution_count": 4,
   "metadata": {},
   "outputs": [],
   "source": [
    "fashion = pd.read_csv('Amazon_Fashio.csv')\n",
    "beauty_df = pd.read_csv(\"beauty.csv\")\n",
    "appliances = pd.read_csv('appliances.csv')"
   ]
  },
  {
   "cell_type": "code",
   "execution_count": 6,
   "metadata": {},
   "outputs": [],
   "source": [
    "fashion = fashion.drop('Unnamed: 0', axis=1)\n",
    "fashion = fashion.rename(columns={\"overall\":\"productRating\",\"asin\":\"productID\", \"Size:\":\"size\"})\n",
    "del beauty_df[\"Unnamed: 0\"]\n",
    "beauty_df= beauty_df.rename(columns={\"overall\":\"productRating\",\"asin\":\"productID\", \"Size:\":\"size\"})\n",
    "del appliances[\"Unnamed: 0\"]\n",
    "appliances= appliances.rename(columns={\"overall\":\"productRating\",\"asin\":\"productID\"})"
   ]
  },
  {
   "cell_type": "code",
   "execution_count": 7,
   "metadata": {},
   "outputs": [],
   "source": [
    "fashion['reviewTime'] = pd.to_datetime(fashion['reviewTime'])\n",
    "beauty_df['reviewTime'] = pd.to_datetime(beauty_df['reviewTime'])\n",
    "appliances['reviewTime'] = pd.to_datetime(appliances['reviewTime'])"
   ]
  },
  {
   "cell_type": "code",
   "execution_count": 8,
   "metadata": {},
   "outputs": [],
   "source": [
    "# get polarity of the text\n",
    "def the_sentiment(text):\n",
    "    blob = TextBlob(text)\n",
    "    return blob.polarity\n",
    "\n",
    "# add label to the polarity\n",
    "def the_sentiment_label(text):\n",
    "    if the_sentiment(text)>0:\n",
    "        polarity_label = 'positive'\n",
    "    elif the_sentiment(text)<0:\n",
    "        polarity_label = 'negative'\n",
    "    else:\n",
    "        polarity_label = 'neutral'\n",
    "    return polarity_label"
   ]
  },
  {
   "cell_type": "code",
   "execution_count": 9,
   "metadata": {},
   "outputs": [],
   "source": [
    "fashion['reviewText'] = fashion['reviewText'].astype(str)\n",
    "fashion['sentiment'] = fashion['reviewText'].apply(the_sentiment)\n",
    "fashion['sentimentLabel'] = fashion['reviewText'].apply(the_sentiment_label)\n",
    "\n",
    "beauty_df['reviewText'] = beauty_df['reviewText'].astype(str)\n",
    "beauty_df['sentiment'] = beauty_df['reviewText'].apply(the_sentiment)\n",
    "beauty_df['sentimentLabel'] = beauty_df['reviewText'].apply(the_sentiment_label)\n",
    "\n",
    "appliances['reviewText'] = appliances['reviewText'].astype(str)\n",
    "appliances['sentiment'] = appliances['reviewText'].apply(the_sentiment)\n",
    "appliances['sentimentLabel'] = appliances['reviewText'].apply(the_sentiment_label)"
   ]
  },
  {
   "cell_type": "code",
   "execution_count": 10,
   "metadata": {},
   "outputs": [],
   "source": [
    "fash_genuine_good_rating = fashion[(fashion['sentimentLabel']=='positive') & (fashion['productRating']>3)]\n",
    "fash_genuine_bad_rating = fashion[(fashion['sentimentLabel']=='negative') & (fashion['productRating']<3)]\n",
    "fash_genuine_neutral_rating = fashion[(fashion['sentimentLabel']=='neutral') & (fashion['productRating']==3)]\n",
    "genuine_df1 = fash_genuine_good_rating.append(fash_genuine_bad_rating)\n",
    "fashion_genuine = genuine_df1.append(fash_genuine_neutral_rating)\n",
    "\n",
    "beauty_genuine_good_rating = beauty_df[(beauty_df['sentimentLabel']=='positive') & (beauty_df['productRating']>3)]\n",
    "beauty_genuine_bad_rating = beauty_df[(beauty_df['sentimentLabel']=='negative') & (beauty_df['productRating']<3)]\n",
    "beauty_genuine_neutral_rating = beauty_df[(beauty_df['sentimentLabel']=='neutral') & (beauty_df['productRating']==3)]\n",
    "genuine_df1 = beauty_genuine_good_rating.append(beauty_genuine_bad_rating)\n",
    "beauty_genuine = genuine_df1.append(beauty_genuine_neutral_rating)\n",
    "\n",
    "appliances_genuine_good_rating = appliances[(appliances['sentimentLabel']=='positive') & (appliances['productRating']>3)]\n",
    "appliances_genuine_bad_rating = appliances[(appliances['sentimentLabel']=='negative') & (appliances['productRating']<3)]\n",
    "appliances_genuine_neutral_rating = appliances[(appliances['sentimentLabel']=='neutral') & (appliances['productRating']==3)]\n",
    "genuine_df1 = appliances_genuine_good_rating.append(appliances_genuine_bad_rating)\n",
    "appliances_genuine = genuine_df1.append(appliances_genuine_neutral_rating)"
   ]
  },
  {
   "cell_type": "code",
   "execution_count": 11,
   "metadata": {},
   "outputs": [
    {
     "name": "stdout",
     "output_type": "stream",
     "text": [
      "<class 'pandas.core.frame.DataFrame'>\n",
      "Index: 0 entries\n",
      "Data columns (total 20 columns):\n",
      " #   Column            Non-Null Count  Dtype         \n",
      "---  ------            --------------  -----         \n",
      " 0   productRating_x   0 non-null      int64         \n",
      " 1   verified_x        0 non-null      bool          \n",
      " 2   reviewTime_x      0 non-null      datetime64[ns]\n",
      " 3   reviewerID        0 non-null      object        \n",
      " 4   productID_x       0 non-null      object        \n",
      " 5   reviewerName_x    0 non-null      object        \n",
      " 6   reviewText_x      0 non-null      object        \n",
      " 7   Color:            0 non-null      object        \n",
      " 8   size_x            0 non-null      object        \n",
      " 9   sentiment_x       0 non-null      float64       \n",
      " 10  sentimentLabel_x  0 non-null      object        \n",
      " 11  productRating_y   0 non-null      int64         \n",
      " 12  verified_y        0 non-null      bool          \n",
      " 13  reviewTime_y      0 non-null      datetime64[ns]\n",
      " 14  productID_y       0 non-null      object        \n",
      " 15  reviewerName_y    0 non-null      object        \n",
      " 16  reviewText_y      0 non-null      object        \n",
      " 17  size_y            0 non-null      object        \n",
      " 18  sentiment_y       0 non-null      float64       \n",
      " 19  sentimentLabel_y  0 non-null      object        \n",
      "dtypes: bool(2), datetime64[ns](2), float64(2), int64(2), object(12)\n",
      "memory usage: 0.0+ bytes\n"
     ]
    }
   ],
   "source": [
    "fash_beauty = fashion_genuine.merge(beauty_genuine, how='inner', on='reviewerID')\n",
    "fash_beauty.info()"
   ]
  },
  {
   "cell_type": "code",
   "execution_count": 17,
   "metadata": {},
   "outputs": [
    {
     "data": {
      "text/plain": [
       "[]"
      ]
     },
     "execution_count": 17,
     "metadata": {},
     "output_type": "execute_result"
    }
   ],
   "source": [
    "checklist=[]\n",
    "for item in fashion_genuine.reviewerID:\n",
    "    for data in beauty_genuine.reviewerID:\n",
    "        if item == data:\n",
    "            checklist.append(data)\n",
    "checklist"
   ]
  },
  {
   "cell_type": "code",
   "execution_count": 18,
   "metadata": {},
   "outputs": [
    {
     "data": {
      "text/plain": [
       "[]"
      ]
     },
     "execution_count": 18,
     "metadata": {},
     "output_type": "execute_result"
    }
   ],
   "source": [
    "checklist=[]\n",
    "for item in appliances_genuine.reviewerID:\n",
    "    for data in beauty_genuine.reviewerID:\n",
    "        if item == data:\n",
    "            checklist.append(data)\n",
    "checklist"
   ]
  },
  {
   "cell_type": "code",
   "execution_count": 19,
   "metadata": {},
   "outputs": [
    {
     "data": {
      "text/plain": [
       "[]"
      ]
     },
     "execution_count": 19,
     "metadata": {},
     "output_type": "execute_result"
    }
   ],
   "source": [
    "checklist=[]\n",
    "for item in fashion_genuine.reviewerID:\n",
    "    for data in appliances_genuine.reviewerID:\n",
    "        if item == data:\n",
    "            checklist.append(data)\n",
    "checklist"
   ]
  },
  {
   "cell_type": "code",
   "execution_count": 20,
   "metadata": {},
   "outputs": [
    {
     "data": {
      "text/plain": [
       "[]"
      ]
     },
     "execution_count": 20,
     "metadata": {},
     "output_type": "execute_result"
    }
   ],
   "source": [
    "checklist=[]\n",
    "for item in fashion.reviewerID:\n",
    "    for data in beauty_df.reviewerID:\n",
    "        if item == data:\n",
    "            checklist.append(data)\n",
    "checklist"
   ]
  },
  {
   "cell_type": "code",
   "execution_count": 21,
   "metadata": {},
   "outputs": [
    {
     "data": {
      "text/plain": [
       "[]"
      ]
     },
     "execution_count": 21,
     "metadata": {},
     "output_type": "execute_result"
    }
   ],
   "source": [
    "checklist=[]\n",
    "for item in appliances.reviewerID:\n",
    "    for data in beauty_df.reviewerID:\n",
    "        if item == data:\n",
    "            checklist.append(data)\n",
    "checklist"
   ]
  },
  {
   "cell_type": "code",
   "execution_count": 22,
   "metadata": {},
   "outputs": [
    {
     "data": {
      "text/plain": [
       "[]"
      ]
     },
     "execution_count": 22,
     "metadata": {},
     "output_type": "execute_result"
    }
   ],
   "source": [
    "checklist=[]\n",
    "for item in fashion.reviewerID:\n",
    "    for data in appliances.reviewerID:\n",
    "        if item == data:\n",
    "            checklist.append(data)\n",
    "checklist"
   ]
  }
 ],
 "metadata": {
  "kernelspec": {
   "display_name": "Python 3",
   "language": "python",
   "name": "python3"
  },
  "language_info": {
   "codemirror_mode": {
    "name": "ipython",
    "version": 3
   },
   "file_extension": ".py",
   "mimetype": "text/x-python",
   "name": "python",
   "nbconvert_exporter": "python",
   "pygments_lexer": "ipython3",
   "version": "3.8.3"
  }
 },
 "nbformat": 4,
 "nbformat_minor": 4
}
